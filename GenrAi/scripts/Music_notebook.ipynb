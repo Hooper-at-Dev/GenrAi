{
 "cells": [
  {
   "cell_type": "markdown",
   "id": "43f05d12",
   "metadata": {},
   "source": [
    "## Importing Libraries"
   ]
  },
  {
   "cell_type": "code",
   "execution_count": 1,
   "id": "73f84a39",
   "metadata": {},
   "outputs": [],
   "source": [
    "import os\n",
    "import tensorflow as tf\n",
    "import matplotlib.pyplot as plt\n",
    "import librosa\n",
    "import numpy as np\n",
    "from tensorflow.keras.layers import Dense, Conv2D, MaxPooling2D, Flatten, Dropout\n",
    "from tensorflow.keras.optimizers import Adam\n",
    "from tensorflow.keras.callbacks import Callback\n",
    "\n"
   ]
  },
  {
   "cell_type": "code",
   "execution_count": 3,
   "id": "ee080fbd",
   "metadata": {},
   "outputs": [],
   "source": [
    "SEED = 42\n",
    "np.random.seed(SEED)\n",
    "tf.random.set_seed(SEED)"
   ]
  },
  {
   "cell_type": "markdown",
   "id": "6f8c1bf5",
   "metadata": {},
   "source": [
    "## Data Preprocessing - Final Stage"
   ]
  },
  {
   "cell_type": "code",
   "execution_count": 4,
   "id": "b7d10b0b",
   "metadata": {},
   "outputs": [],
   "source": [
    "data_dir = \"./Data/genres_original/\"\n",
    "classes = os.listdir(data_dir)"
   ]
  },
  {
   "cell_type": "code",
   "execution_count": 6,
   "id": "840c146e",
   "metadata": {},
   "outputs": [],
   "source": [
    "from tensorflow.image import resize\n",
    "from tensorflow.keras import backend as K\n",
    "import gc\n",
    "#loading the audio files\n",
    "def load_and_preprocess_data(data_dir, classes, target_shape=(256, 256)):\n",
    "    data = []\n",
    "    labels = []\n",
    "\n",
    "    for i_class, class_name in enumerate(classes):\n",
    "        class_dir = os.path.join(data_dir, class_name)\n",
    "        print(\"Processing class: \", class_name)\n",
    "        for file in os.listdir(class_dir):\n",
    "            if file.endswith(\".wav\"):\n",
    "                file_path = os.path.join(class_dir, file)\n",
    "                audio_data, sample_rate = librosa.load(file_path, sr=None)\n",
    "                #Performing Preprocessing\n",
    "                chunk_duration = 4\n",
    "                overlap_duration = 2\n",
    "\n",
    "                #calculate the number of samples in the chunk\n",
    "                chunk_samples = int(chunk_duration * sample_rate)\n",
    "\n",
    "                #calculate the number of samples to overlap\n",
    "                overlap_samples = int(overlap_duration * sample_rate)\n",
    "\n",
    "                # calculate the number of chunks\n",
    "                num_chunks = int(np.ceil((len(audio_data) - chunk_samples) / (chunk_samples - overlap_samples)) + 1)\n",
    "\n",
    "                #iterate over the chunks and extract them\n",
    "                for i in range(num_chunks):\n",
    "                    start = i * (chunk_samples - overlap_samples)\n",
    "                    end = start + chunk_samples\n",
    "                    #extract the chunk\n",
    "                    chunk = audio_data[start:end]\n",
    "                    #Melspectrogram part\n",
    "                    mel_spectrogram = librosa.feature.melspectrogram(y=chunk, sr=sample_rate)\n",
    "                    #Resizing the Matrix to the target shape\n",
    "                    mel_spectrogram = resize(np.expand_dims(mel_spectrogram, axis=-1), target_shape)\n",
    "                    #Append data to list\n",
    "                    data.append(mel_spectrogram)\n",
    "                    labels.append(i_class)\n",
    "    #return the data and labels as numpy arrays\n",
    "    return np.array(data), np.array(labels)"
   ]
  },
  {
   "cell_type": "code",
   "execution_count": 8,
   "id": "ce8fc1d8",
   "metadata": {},
   "outputs": [
    {
     "name": "stdout",
     "output_type": "stream",
     "text": [
      "Processing class:  blues\n",
      "Processing class:  classical\n",
      "Processing class:  country\n",
      "Processing class:  disco\n",
      "Processing class:  hiphop\n",
      "Processing class:  jazz\n",
      "Processing class:  metal\n",
      "Processing class:  pop\n",
      "Processing class:  reggae\n",
      "Processing class:  rock\n"
     ]
    }
   ],
   "source": [
    "data, labels = load_and_preprocess_data(data_dir, classes)"
   ]
  },
  {
   "cell_type": "code",
   "execution_count": 9,
   "id": "918cedea",
   "metadata": {},
   "outputs": [
    {
     "data": {
      "text/plain": [
       "(14975, 256, 256, 1)"
      ]
     },
     "execution_count": 9,
     "metadata": {},
     "output_type": "execute_result"
    }
   ],
   "source": [
    "data.shape"
   ]
  },
  {
   "cell_type": "code",
   "execution_count": 10,
   "id": "02cd08da",
   "metadata": {},
   "outputs": [
    {
     "data": {
      "text/plain": [
       "array([[  0.3077432 ],\n",
       "       [  0.46545842],\n",
       "       [  0.59274685],\n",
       "       [  0.5141609 ],\n",
       "       [  0.43777406],\n",
       "       [  0.43942085],\n",
       "       [  0.6051142 ],\n",
       "       [  0.9645021 ],\n",
       "       [  4.9830294 ],\n",
       "       [ 15.406191  ],\n",
       "       [ 40.24829   ],\n",
       "       [ 55.22972   ],\n",
       "       [ 52.64004   ],\n",
       "       [ 29.761534  ],\n",
       "       [ 12.39211   ],\n",
       "       [  4.138238  ],\n",
       "       [  3.138879  ],\n",
       "       [  2.7739482 ],\n",
       "       [  2.7830305 ],\n",
       "       [  1.9494569 ],\n",
       "       [  1.4558203 ],\n",
       "       [  1.28394   ],\n",
       "       [  1.3739665 ],\n",
       "       [  1.3383815 ],\n",
       "       [  1.2415677 ],\n",
       "       [  1.5386982 ],\n",
       "       [  1.6467667 ],\n",
       "       [  1.6036918 ],\n",
       "       [  1.3688638 ],\n",
       "       [  1.3794706 ],\n",
       "       [  1.4199554 ],\n",
       "       [  0.9255539 ],\n",
       "       [  0.5698247 ],\n",
       "       [  0.35551125],\n",
       "       [  0.4419094 ],\n",
       "       [  0.87105536],\n",
       "       [  1.329225  ],\n",
       "       [  1.4781809 ],\n",
       "       [  2.477612  ],\n",
       "       [  7.3565536 ],\n",
       "       [ 21.266098  ],\n",
       "       [ 36.92325   ],\n",
       "       [ 45.0801    ],\n",
       "       [ 36.906403  ],\n",
       "       [ 31.12009   ],\n",
       "       [ 23.168402  ],\n",
       "       [ 10.738038  ],\n",
       "       [  8.266869  ],\n",
       "       [  6.115838  ],\n",
       "       [  2.5908196 ],\n",
       "       [  2.6101944 ],\n",
       "       [  2.3926919 ],\n",
       "       [  1.5431376 ],\n",
       "       [  0.8531879 ],\n",
       "       [  0.6968076 ],\n",
       "       [  1.0957849 ],\n",
       "       [  1.7256367 ],\n",
       "       [  2.4852695 ],\n",
       "       [  3.2577047 ],\n",
       "       [  2.0407667 ],\n",
       "       [  1.2717433 ],\n",
       "       [  0.9174826 ],\n",
       "       [  1.3353236 ],\n",
       "       [  1.3109721 ],\n",
       "       [  1.0523005 ],\n",
       "       [  1.1187013 ],\n",
       "       [  1.2089199 ],\n",
       "       [  1.2752354 ],\n",
       "       [  1.1629703 ],\n",
       "       [  2.4945145 ],\n",
       "       [  8.174454  ],\n",
       "       [ 27.69887   ],\n",
       "       [ 37.933014  ],\n",
       "       [ 37.76158   ],\n",
       "       [ 16.779102  ],\n",
       "       [ 10.734178  ],\n",
       "       [ 10.142996  ],\n",
       "       [ 12.06007   ],\n",
       "       [ 16.67215   ],\n",
       "       [ 17.540577  ],\n",
       "       [  9.636921  ],\n",
       "       [  6.2096405 ],\n",
       "       [  4.3190374 ],\n",
       "       [  3.7115886 ],\n",
       "       [  3.7173665 ],\n",
       "       [  3.9823937 ],\n",
       "       [  4.5112085 ],\n",
       "       [  3.7971132 ],\n",
       "       [  3.957764  ],\n",
       "       [  5.2779965 ],\n",
       "       [  7.7259073 ],\n",
       "       [  7.506549  ],\n",
       "       [  4.575757  ],\n",
       "       [  4.990005  ],\n",
       "       [  5.4604664 ],\n",
       "       [  5.9639497 ],\n",
       "       [  6.1937985 ],\n",
       "       [  5.9320955 ],\n",
       "       [  5.3870196 ],\n",
       "       [  5.5981903 ],\n",
       "       [ 10.257229  ],\n",
       "       [ 19.81175   ],\n",
       "       [ 42.841484  ],\n",
       "       [ 49.02488   ],\n",
       "       [ 43.63562   ],\n",
       "       [ 25.438574  ],\n",
       "       [ 15.029422  ],\n",
       "       [  9.299744  ],\n",
       "       [  8.218285  ],\n",
       "       [  7.09765   ],\n",
       "       [  5.788734  ],\n",
       "       [  3.9764965 ],\n",
       "       [  3.354131  ],\n",
       "       [  3.1525595 ],\n",
       "       [  3.140195  ],\n",
       "       [  3.2258458 ],\n",
       "       [  3.571271  ],\n",
       "       [  4.382436  ],\n",
       "       [  6.364537  ],\n",
       "       [  8.725472  ],\n",
       "       [ 11.391101  ],\n",
       "       [  9.722431  ],\n",
       "       [  7.2804403 ],\n",
       "       [  4.4426336 ],\n",
       "       [  4.112115  ],\n",
       "       [  3.7670665 ],\n",
       "       [  3.214389  ],\n",
       "       [  2.654087  ],\n",
       "       [  2.1505146 ],\n",
       "       [  1.7392082 ],\n",
       "       [  3.0412686 ],\n",
       "       [ 13.717115  ],\n",
       "       [ 32.508488  ],\n",
       "       [ 53.548546  ],\n",
       "       [ 56.0277    ],\n",
       "       [ 43.919334  ],\n",
       "       [ 21.167496  ],\n",
       "       [  8.199326  ],\n",
       "       [  2.0446906 ],\n",
       "       [  1.0561836 ],\n",
       "       [  0.71404713],\n",
       "       [  0.68318003],\n",
       "       [  0.56708753],\n",
       "       [  0.44018877],\n",
       "       [  0.35716972],\n",
       "       [  0.44344687],\n",
       "       [  0.6082413 ],\n",
       "       [  1.3145809 ],\n",
       "       [  3.4622428 ],\n",
       "       [  4.656646  ],\n",
       "       [  5.1408076 ],\n",
       "       [  4.600319  ],\n",
       "       [  4.8557506 ],\n",
       "       [  4.263672  ],\n",
       "       [  1.7299526 ],\n",
       "       [  3.9949503 ],\n",
       "       [  7.16559   ],\n",
       "       [ 10.578583  ],\n",
       "       [  8.232273  ],\n",
       "       [  4.9558825 ],\n",
       "       [  1.2424102 ],\n",
       "       [  4.390644  ],\n",
       "       [ 15.394329  ],\n",
       "       [ 34.96634   ],\n",
       "       [ 54.576332  ],\n",
       "       [ 56.447598  ],\n",
       "       [ 40.9243    ],\n",
       "       [ 23.126242  ],\n",
       "       [ 14.619316  ],\n",
       "       [ 13.437589  ],\n",
       "       [  6.7391267 ],\n",
       "       [  3.0837235 ],\n",
       "       [  1.6563118 ],\n",
       "       [  0.9334111 ],\n",
       "       [  0.5515495 ],\n",
       "       [  0.41110247],\n",
       "       [  0.4943763 ],\n",
       "       [  0.6678276 ],\n",
       "       [  1.0450026 ],\n",
       "       [  2.1088126 ],\n",
       "       [  3.3727183 ],\n",
       "       [  4.3520412 ],\n",
       "       [  4.0907536 ],\n",
       "       [  4.5000653 ],\n",
       "       [  6.713247  ],\n",
       "       [ 13.220928  ],\n",
       "       [ 13.005513  ],\n",
       "       [  9.747852  ],\n",
       "       [  3.7104275 ],\n",
       "       [  2.0559688 ],\n",
       "       [  1.9413301 ],\n",
       "       [  3.0145268 ],\n",
       "       [ 16.30669   ],\n",
       "       [ 45.079956  ],\n",
       "       [ 95.19446   ],\n",
       "       [110.31936   ],\n",
       "       [101.67496   ],\n",
       "       [ 66.15674   ],\n",
       "       [ 47.54371   ],\n",
       "       [ 37.772964  ],\n",
       "       [ 36.94874   ],\n",
       "       [ 30.688194  ],\n",
       "       [ 24.393179  ],\n",
       "       [ 18.092735  ],\n",
       "       [ 11.246578  ],\n",
       "       [  6.215552  ],\n",
       "       [  2.8911238 ],\n",
       "       [  2.56595   ],\n",
       "       [  2.3305123 ],\n",
       "       [  2.0825772 ],\n",
       "       [  1.2504102 ],\n",
       "       [  0.9822533 ],\n",
       "       [  1.2178677 ],\n",
       "       [  2.430316  ],\n",
       "       [  5.4723034 ],\n",
       "       [  8.724721  ],\n",
       "       [  9.158583  ],\n",
       "       [  9.116415  ],\n",
       "       [  8.592967  ],\n",
       "       [  7.119179  ],\n",
       "       [  4.6978717 ],\n",
       "       [  2.6056204 ],\n",
       "       [  2.1980677 ],\n",
       "       [  5.4791527 ],\n",
       "       [ 13.371319  ],\n",
       "       [ 29.21873   ],\n",
       "       [ 46.71974   ],\n",
       "       [ 52.03298   ],\n",
       "       [ 34.65841   ],\n",
       "       [ 18.675337  ],\n",
       "       [ 10.612016  ],\n",
       "       [ 14.329399  ],\n",
       "       [ 12.220358  ],\n",
       "       [  8.979528  ],\n",
       "       [  4.9654493 ],\n",
       "       [  3.9334333 ],\n",
       "       [  3.2522445 ],\n",
       "       [  2.8076587 ],\n",
       "       [  1.58528   ],\n",
       "       [  1.0016639 ],\n",
       "       [  1.0372064 ],\n",
       "       [  1.6136129 ],\n",
       "       [  2.4258728 ],\n",
       "       [  3.421394  ],\n",
       "       [  4.3730726 ],\n",
       "       [  7.155679  ],\n",
       "       [ 10.332309  ],\n",
       "       [  7.2940803 ],\n",
       "       [  5.8445706 ],\n",
       "       [  5.21665   ],\n",
       "       [  4.181283  ],\n",
       "       [  3.8837652 ],\n",
       "       [  4.0362077 ],\n",
       "       [  4.5958996 ],\n",
       "       [  7.054385  ],\n",
       "       [  9.48537   ]], dtype=float32)"
      ]
     },
     "execution_count": 10,
     "metadata": {},
     "output_type": "execute_result"
    }
   ],
   "source": [
    "data[1, 1]\n"
   ]
  },
  {
   "cell_type": "code",
   "execution_count": 11,
   "id": "7288fd27",
   "metadata": {},
   "outputs": [
    {
     "data": {
      "text/plain": [
       "array([[1., 0., 0., ..., 0., 0., 0.],\n",
       "       [1., 0., 0., ..., 0., 0., 0.],\n",
       "       [1., 0., 0., ..., 0., 0., 0.],\n",
       "       ...,\n",
       "       [0., 0., 0., ..., 0., 0., 1.],\n",
       "       [0., 0., 0., ..., 0., 0., 1.],\n",
       "       [0., 0., 0., ..., 0., 0., 1.]], dtype=float32)"
      ]
     },
     "execution_count": 11,
     "metadata": {},
     "output_type": "execute_result"
    }
   ],
   "source": [
    "from tensorflow.keras.utils import to_categorical\n",
    "labels = to_categorical(labels, num_classes=len(classes))\n",
    "labels"
   ]
  },
  {
   "cell_type": "code",
   "execution_count": 12,
   "id": "869e7364",
   "metadata": {},
   "outputs": [
    {
     "data": {
      "text/plain": [
       "(14975, 10)"
      ]
     },
     "execution_count": 12,
     "metadata": {},
     "output_type": "execute_result"
    }
   ],
   "source": [
    "labels.shape"
   ]
  },
  {
   "cell_type": "markdown",
   "id": "3682503a",
   "metadata": {},
   "source": [
    "## Splitting the Dataset for testing and training"
   ]
  },
  {
   "cell_type": "code",
   "execution_count": 13,
   "id": "5f088c91",
   "metadata": {},
   "outputs": [],
   "source": [
    "from sklearn.model_selection import train_test_split\n",
    "X_train, X_test, Y_train, Y_test = train_test_split(data, labels, test_size=0.2, random_state=42)"
   ]
  },
  {
   "cell_type": "code",
   "execution_count": 14,
   "id": "eff1d593",
   "metadata": {},
   "outputs": [
    {
     "data": {
      "text/plain": [
       "(11980, 256, 256, 1)"
      ]
     },
     "execution_count": 14,
     "metadata": {},
     "output_type": "execute_result"
    }
   ],
   "source": [
    "X_train.shape\n"
   ]
  },
  {
   "cell_type": "markdown",
   "id": "3d51889f",
   "metadata": {},
   "source": [
    "## CNN Model"
   ]
  },
  {
   "cell_type": "code",
   "execution_count": 15,
   "id": "b896837c",
   "metadata": {},
   "outputs": [],
   "source": [
    "model = tf.keras.models.Sequential()"
   ]
  },
  {
   "cell_type": "code",
   "execution_count": 16,
   "id": "fa5813af",
   "metadata": {},
   "outputs": [],
   "source": [
    "model.add((Conv2D(filters=32, kernel_size=3, padding='same', activation='relu', input_shape=X_train[0].shape)))\n",
    "model.add((Conv2D(filters=32, kernel_size=3, activation='relu')))\n",
    "model.add((MaxPooling2D(pool_size=2, strides=2)))"
   ]
  },
  {
   "cell_type": "code",
   "execution_count": 17,
   "id": "be1a65f0",
   "metadata": {},
   "outputs": [],
   "source": [
    "model.add((Conv2D(filters=64, kernel_size=3, padding='same', activation='relu', input_shape=X_train[0].shape)))\n",
    "model.add((Conv2D(filters=64, kernel_size=3, activation='relu')))\n",
    "model.add((MaxPooling2D(pool_size=2, strides=2)))"
   ]
  },
  {
   "cell_type": "code",
   "execution_count": 18,
   "id": "2ca3d3ce",
   "metadata": {},
   "outputs": [],
   "source": [
    "model.add((Conv2D(filters=128, kernel_size=3, padding='same', activation='relu', input_shape=X_train[0].shape)))\n",
    "model.add((Conv2D(filters=128, kernel_size=3, activation='relu')))\n",
    "model.add((MaxPooling2D(pool_size=2, strides=2)))"
   ]
  },
  {
   "cell_type": "code",
   "execution_count": 19,
   "id": "7403cbf1",
   "metadata": {},
   "outputs": [],
   "source": [
    "model.add(Dropout(0.3))"
   ]
  },
  {
   "cell_type": "code",
   "execution_count": 20,
   "id": "dc097da5",
   "metadata": {},
   "outputs": [],
   "source": [
    "model.add((Conv2D(filters=256, kernel_size=3, padding='same', activation='relu', input_shape=X_train[0].shape)))\n",
    "model.add((Conv2D(filters=256, kernel_size=3, activation='relu')))\n",
    "model.add((MaxPooling2D(pool_size=2, strides=2)))"
   ]
  },
  {
   "cell_type": "code",
   "execution_count": 21,
   "id": "1ab37eb1",
   "metadata": {},
   "outputs": [],
   "source": [
    "model.add((Conv2D(filters=512, kernel_size=3, padding='same', activation='relu', input_shape=X_train[0].shape)))\n",
    "model.add((Conv2D(filters=512, kernel_size=3, activation='relu')))\n",
    "model.add((MaxPooling2D(pool_size=2, strides=2)))"
   ]
  },
  {
   "cell_type": "code",
   "execution_count": 22,
   "id": "69aece12",
   "metadata": {},
   "outputs": [],
   "source": [
    "model.add(Dropout(0.3))"
   ]
  },
  {
   "cell_type": "code",
   "execution_count": 23,
   "id": "c1284773",
   "metadata": {},
   "outputs": [],
   "source": [
    "model.add(Flatten())"
   ]
  },
  {
   "cell_type": "code",
   "execution_count": 24,
   "id": "833e5283",
   "metadata": {},
   "outputs": [],
   "source": [
    "model.add(Dense(1200, activation='relu'))\n"
   ]
  },
  {
   "cell_type": "code",
   "execution_count": 25,
   "id": "418f48ab",
   "metadata": {},
   "outputs": [],
   "source": [
    "model.add(Dropout(0.45))"
   ]
  },
  {
   "cell_type": "code",
   "execution_count": 26,
   "id": "8927e6aa",
   "metadata": {},
   "outputs": [],
   "source": [
    "#Output Layer\n",
    "model.add(Dense(units=len(classes), activation='softmax'))\n"
   ]
  },
  {
   "cell_type": "code",
   "execution_count": 27,
   "id": "a81afa75",
   "metadata": {},
   "outputs": [
    {
     "name": "stdout",
     "output_type": "stream",
     "text": [
      "Model: \"sequential\"\n",
      "_________________________________________________________________\n",
      " Layer (type)                Output Shape              Param #   \n",
      "=================================================================\n",
      " conv2d (Conv2D)             (None, 256, 256, 32)      320       \n",
      "                                                                 \n",
      " conv2d_1 (Conv2D)           (None, 254, 254, 32)      9248      \n",
      "                                                                 \n",
      " max_pooling2d (MaxPooling2D  (None, 127, 127, 32)     0         \n",
      " )                                                               \n",
      "                                                                 \n",
      " conv2d_2 (Conv2D)           (None, 127, 127, 64)      18496     \n",
      "                                                                 \n",
      " conv2d_3 (Conv2D)           (None, 125, 125, 64)      36928     \n",
      "                                                                 \n",
      " max_pooling2d_1 (MaxPooling  (None, 62, 62, 64)       0         \n",
      " 2D)                                                             \n",
      "                                                                 \n",
      " conv2d_4 (Conv2D)           (None, 62, 62, 128)       73856     \n",
      "                                                                 \n",
      " conv2d_5 (Conv2D)           (None, 60, 60, 128)       147584    \n",
      "                                                                 \n",
      " max_pooling2d_2 (MaxPooling  (None, 30, 30, 128)      0         \n",
      " 2D)                                                             \n",
      "                                                                 \n",
      " dropout (Dropout)           (None, 30, 30, 128)       0         \n",
      "                                                                 \n",
      " conv2d_6 (Conv2D)           (None, 30, 30, 256)       295168    \n",
      "                                                                 \n",
      " conv2d_7 (Conv2D)           (None, 28, 28, 256)       590080    \n",
      "                                                                 \n",
      " max_pooling2d_3 (MaxPooling  (None, 14, 14, 256)      0         \n",
      " 2D)                                                             \n",
      "                                                                 \n",
      " conv2d_8 (Conv2D)           (None, 14, 14, 512)       1180160   \n",
      "                                                                 \n",
      " conv2d_9 (Conv2D)           (None, 12, 12, 512)       2359808   \n",
      "                                                                 \n",
      " max_pooling2d_4 (MaxPooling  (None, 6, 6, 512)        0         \n",
      " 2D)                                                             \n",
      "                                                                 \n",
      " dropout_1 (Dropout)         (None, 6, 6, 512)         0         \n",
      "                                                                 \n",
      " flatten (Flatten)           (None, 18432)             0         \n",
      "                                                                 \n",
      " dense (Dense)               (None, 1200)              22119600  \n",
      "                                                                 \n",
      " dropout_2 (Dropout)         (None, 1200)              0         \n",
      "                                                                 \n",
      " dense_1 (Dense)             (None, 10)                12010     \n",
      "                                                                 \n",
      "=================================================================\n",
      "Total params: 26,843,258\n",
      "Trainable params: 26,843,258\n",
      "Non-trainable params: 0\n",
      "_________________________________________________________________\n"
     ]
    }
   ],
   "source": [
    "model.summary()\n"
   ]
  },
  {
   "cell_type": "code",
   "execution_count": 28,
   "id": "47b1f029",
   "metadata": {},
   "outputs": [],
   "source": [
    "#Compiling the Model\n",
    "model.compile(optimizer=Adam(learning_rate=0.0001), loss='categorical_crossentropy', metrics=['accuracy'])"
   ]
  },
  {
   "cell_type": "code",
   "execution_count": null,
   "id": "f8fa0dd2",
   "metadata": {},
   "outputs": [],
   "source": [
    "# #Training the Model\n",
    "# class SaveBestHighValAcc(Callback):\n",
    "#     def __init__(self, filepath):\n",
    "#         super(SaveBestHighValAcc, self).__init__()\n",
    "#         self.best_val_acc = 0\n",
    "#         self.filepath = filepath\n",
    "\n",
    "#     def on_epoch_end(self, epoch, logs=None):\n",
    "#         val_acc = logs.get(\"val_accuracy\")\n",
    "#         if val_acc is not None:\n",
    "#             if val_acc > self.best_val_acc and val_acc > 0.90:\n",
    "#                 self.best_val_acc = val_acc\n",
    "#                 self.model.save(self.filepath)\n",
    "#                 print(f\"\\n✅ Saved model at epoch {epoch + 1} with val_accuracy = {val_acc:.4f}\")\n",
    "\n",
    "# # Attach the callback\n",
    "# save_callback = SaveBestHighValAcc(\"Trained_Model.h5\")\n",
    "\n",
    "training_history = model.fit(\n",
    "    X_train, Y_train,\n",
    "    epochs=30,\n",
    "    batch_size=32,\n",
    "    validation_data=(X_test, Y_test),\n",
    "    # callbacks=[save_callback]\n",
    ")\n"
   ]
  },
  {
   "cell_type": "code",
   "execution_count": 26,
   "id": "1f27345b",
   "metadata": {},
   "outputs": [
    {
     "data": {
      "text/plain": [
       "{'loss': [1.8089581727981567,\n",
       "  1.2696096897125244,\n",
       "  0.9302084445953369,\n",
       "  0.7458846569061279,\n",
       "  0.5608744621276855,\n",
       "  0.44785580039024353,\n",
       "  0.36933740973472595,\n",
       "  0.2909510135650635,\n",
       "  0.226390078663826,\n",
       "  0.19857314229011536,\n",
       "  0.16376204788684845,\n",
       "  0.1320676952600479,\n",
       "  0.11792512983083725,\n",
       "  0.12074233591556549,\n",
       "  0.08747440576553345,\n",
       "  0.07954997569322586,\n",
       "  0.0722273662686348,\n",
       "  0.0643719881772995,\n",
       "  0.0571240670979023,\n",
       "  0.06642725318670273,\n",
       "  0.0559740774333477,\n",
       "  0.06411441415548325,\n",
       "  0.033489130437374115,\n",
       "  0.04007868096232414,\n",
       "  0.06641067564487457,\n",
       "  0.037705760449171066,\n",
       "  0.02266586944460869,\n",
       "  0.0473894439637661,\n",
       "  0.044723402708768845,\n",
       "  0.03767934814095497],\n",
       " 'accuracy': [0.34958264231681824,\n",
       "  0.5581802725791931,\n",
       "  0.6823872923851013,\n",
       "  0.7459933161735535,\n",
       "  0.8108513951301575,\n",
       "  0.8449081778526306,\n",
       "  0.8732888102531433,\n",
       "  0.9007512331008911,\n",
       "  0.9212020039558411,\n",
       "  0.9328881502151489,\n",
       "  0.9457429051399231,\n",
       "  0.9570951461791992,\n",
       "  0.9611018300056458,\n",
       "  0.9590150117874146,\n",
       "  0.9723706245422363,\n",
       "  0.9759599566459656,\n",
       "  0.9771285653114319,\n",
       "  0.9789649248123169,\n",
       "  0.9824708104133606,\n",
       "  0.9787145256996155,\n",
       "  0.9820533990859985,\n",
       "  0.981218695640564,\n",
       "  0.9901502728462219,\n",
       "  0.9863105416297913,\n",
       "  0.9797161817550659,\n",
       "  0.9879799485206604,\n",
       "  0.9924874901771545,\n",
       "  0.9854757785797119,\n",
       "  0.9853923320770264,\n",
       "  0.9888981580734253],\n",
       " 'val_loss': [1.3688421249389648,\n",
       "  1.1783398389816284,\n",
       "  0.7764614820480347,\n",
       "  0.6503158807754517,\n",
       "  0.5924935936927795,\n",
       "  0.4821406900882721,\n",
       "  0.4479963779449463,\n",
       "  0.31427431106567383,\n",
       "  0.37216755747795105,\n",
       "  0.523523211479187,\n",
       "  0.3993796706199646,\n",
       "  0.3958972990512848,\n",
       "  0.2951193153858185,\n",
       "  0.35344186425209045,\n",
       "  0.3815484344959259,\n",
       "  0.28323569893836975,\n",
       "  0.31879758834838867,\n",
       "  0.3168145716190338,\n",
       "  0.32058748602867126,\n",
       "  0.30951783061027527,\n",
       "  0.23597514629364014,\n",
       "  0.23855328559875488,\n",
       "  0.3099135160446167,\n",
       "  0.282540500164032,\n",
       "  0.2606847584247589,\n",
       "  0.24462063610553741,\n",
       "  0.3296228349208832,\n",
       "  0.3215959072113037,\n",
       "  0.28038859367370605,\n",
       "  0.25871413946151733],\n",
       " 'val_accuracy': [0.5218697786331177,\n",
       "  0.5612688064575195,\n",
       "  0.7398998141288757,\n",
       "  0.7849749326705933,\n",
       "  0.7916527390480042,\n",
       "  0.8380634188652039,\n",
       "  0.8520867824554443,\n",
       "  0.8908180594444275,\n",
       "  0.8841402530670166,\n",
       "  0.8514190316200256,\n",
       "  0.8854758143424988,\n",
       "  0.8751252293586731,\n",
       "  0.903171956539154,\n",
       "  0.900166928768158,\n",
       "  0.8938230276107788,\n",
       "  0.9138564467430115,\n",
       "  0.9088481068611145,\n",
       "  0.9141902923583984,\n",
       "  0.9085142016410828,\n",
       "  0.9121869802474976,\n",
       "  0.9352253675460815,\n",
       "  0.9308847784996033,\n",
       "  0.9158597588539124,\n",
       "  0.9305509328842163,\n",
       "  0.9345576167106628,\n",
       "  0.9325542449951172,\n",
       "  0.9238731265068054,\n",
       "  0.9225375652313232,\n",
       "  0.9338898062705994,\n",
       "  0.9342237114906311]}"
      ]
     },
     "execution_count": 26,
     "metadata": {},
     "output_type": "execute_result"
    }
   ],
   "source": [
    "training_history.history\n"
   ]
  },
  {
   "cell_type": "code",
   "execution_count": 24,
   "id": "cf3f983a",
   "metadata": {},
   "outputs": [
    {
     "ename": "NameError",
     "evalue": "name 'training_history' is not defined",
     "output_type": "error",
     "traceback": [
      "\u001b[1;31m---------------------------------------------------------------------------\u001b[0m",
      "\u001b[1;31mNameError\u001b[0m                                 Traceback (most recent call last)",
      "Cell \u001b[1;32mIn[24], line 3\u001b[0m\n\u001b[0;32m      1\u001b[0m \u001b[38;5;28;01mimport\u001b[39;00m\u001b[38;5;250m \u001b[39m\u001b[38;5;21;01mjson\u001b[39;00m\n\u001b[0;32m      2\u001b[0m \u001b[38;5;28;01mwith\u001b[39;00m \u001b[38;5;28mopen\u001b[39m(\u001b[38;5;124m\"\u001b[39m\u001b[38;5;124mtraining_history.json\u001b[39m\u001b[38;5;124m\"\u001b[39m, \u001b[38;5;124m\"\u001b[39m\u001b[38;5;124mw\u001b[39m\u001b[38;5;124m\"\u001b[39m) \u001b[38;5;28;01mas\u001b[39;00m f:\n\u001b[1;32m----> 3\u001b[0m     json\u001b[38;5;241m.\u001b[39mdump(\u001b[43mtraining_history\u001b[49m\u001b[38;5;241m.\u001b[39mhistory, f)\n",
      "\u001b[1;31mNameError\u001b[0m: name 'training_history' is not defined"
     ]
    }
   ],
   "source": [
    "import json\n",
    "with open(\"training_history.json\", \"w\") as f:\n",
    "    json.dump(training_history.history, f)"
   ]
  },
  {
   "cell_type": "code",
   "execution_count": 25,
   "id": "9266981b",
   "metadata": {},
   "outputs": [
    {
     "name": "stdout",
     "output_type": "stream",
     "text": [
      "Model: \"sequential\"\n",
      "_________________________________________________________________\n",
      " Layer (type)                Output Shape              Param #   \n",
      "=================================================================\n",
      " conv2d (Conv2D)             (None, 256, 256, 32)      320       \n",
      "                                                                 \n",
      " conv2d_1 (Conv2D)           (None, 254, 254, 32)      9248      \n",
      "                                                                 \n",
      " max_pooling2d (MaxPooling2D  (None, 127, 127, 32)     0         \n",
      " )                                                               \n",
      "                                                                 \n",
      " conv2d_2 (Conv2D)           (None, 127, 127, 64)      18496     \n",
      "                                                                 \n",
      " conv2d_3 (Conv2D)           (None, 125, 125, 64)      36928     \n",
      "                                                                 \n",
      " max_pooling2d_1 (MaxPooling  (None, 62, 62, 64)       0         \n",
      " 2D)                                                             \n",
      "                                                                 \n",
      " conv2d_4 (Conv2D)           (None, 62, 62, 128)       73856     \n",
      "                                                                 \n",
      " conv2d_5 (Conv2D)           (None, 60, 60, 128)       147584    \n",
      "                                                                 \n",
      " max_pooling2d_2 (MaxPooling  (None, 30, 30, 128)      0         \n",
      " 2D)                                                             \n",
      "                                                                 \n",
      " dropout (Dropout)           (None, 30, 30, 128)       0         \n",
      "                                                                 \n",
      " conv2d_6 (Conv2D)           (None, 30, 30, 256)       295168    \n",
      "                                                                 \n",
      " conv2d_7 (Conv2D)           (None, 28, 28, 256)       590080    \n",
      "                                                                 \n",
      " max_pooling2d_3 (MaxPooling  (None, 14, 14, 256)      0         \n",
      " 2D)                                                             \n",
      "                                                                 \n",
      " conv2d_8 (Conv2D)           (None, 14, 14, 512)       1180160   \n",
      "                                                                 \n",
      " conv2d_9 (Conv2D)           (None, 12, 12, 512)       2359808   \n",
      "                                                                 \n",
      " max_pooling2d_4 (MaxPooling  (None, 6, 6, 512)        0         \n",
      " 2D)                                                             \n",
      "                                                                 \n",
      " dropout_1 (Dropout)         (None, 6, 6, 512)         0         \n",
      "                                                                 \n",
      " flatten (Flatten)           (None, 18432)             0         \n",
      "                                                                 \n",
      " dense (Dense)               (None, 1200)              22119600  \n",
      "                                                                 \n",
      " dropout_2 (Dropout)         (None, 1200)              0         \n",
      "                                                                 \n",
      " dense_1 (Dense)             (None, 10)                12010     \n",
      "                                                                 \n",
      "=================================================================\n",
      "Total params: 26,843,258\n",
      "Trainable params: 26,843,258\n",
      "Non-trainable params: 0\n",
      "_________________________________________________________________\n"
     ]
    }
   ],
   "source": [
    "#Model Loading\n",
    "model = tf.keras.models.load_model(\"Trained_Model.h5\")\n",
    "model.summary()"
   ]
  },
  {
   "cell_type": "code",
   "execution_count": 26,
   "id": "2d41b535",
   "metadata": {},
   "outputs": [
    {
     "data": {
      "text/plain": [
       "dict_keys(['loss', 'accuracy', 'val_loss', 'val_accuracy'])"
      ]
     },
     "execution_count": 26,
     "metadata": {},
     "output_type": "execute_result"
    }
   ],
   "source": [
    "import json\n",
    "with open(\"training_history.json\", \"r\") as f:\n",
    "    training_history_data = json.load(f)\n",
    "training_history_data.keys()"
   ]
  },
  {
   "cell_type": "markdown",
   "id": "39cafbfc",
   "metadata": {},
   "source": [
    "## Model Evaluation"
   ]
  },
  {
   "cell_type": "code",
   "execution_count": 27,
   "id": "77d1ce01",
   "metadata": {},
   "outputs": [
    {
     "name": "stdout",
     "output_type": "stream",
     "text": [
      "375/375 [==============================] - 21s 46ms/step - loss: 2.3697 - accuracy: 0.1020\n"
     ]
    }
   ],
   "source": [
    "#Model Evaluation on Training Data\n",
    "train_loss, train_accuracy = model.evaluate(X_train, Y_train)"
   ]
  },
  {
   "cell_type": "code",
   "execution_count": 29,
   "id": "e72c45be",
   "metadata": {},
   "outputs": [
    {
     "name": "stdout",
     "output_type": "stream",
     "text": [
      "94/94 [==============================] - 45s 57ms/step - loss: 0.2360 - accuracy: 0.9352\n"
     ]
    }
   ],
   "source": [
    "#Model Evaluation on Validation Data\n",
    "val_loss, val_accuracy = model.evaluate(X_test, Y_test)\n"
   ]
  },
  {
   "cell_type": "markdown",
   "id": "d59ab5a1",
   "metadata": {},
   "source": [
    "## Accuracy and Loss Visualization\n"
   ]
  },
  {
   "cell_type": "code",
   "execution_count": 29,
   "id": "65bc1bba",
   "metadata": {},
   "outputs": [
    {
     "data": {
      "text/plain": [
       "<function matplotlib.pyplot.show(close=None, block=None)>"
      ]
     },
     "execution_count": 29,
     "metadata": {},
     "output_type": "execute_result"
    },
    {
     "data": {
      "image/png": "[encoded data removed]",
      "text/plain": [
       "<Figure size 640x480 with 1 Axes>"
      ]
     },
     "metadata": {},
     "output_type": "display_data"
    }
   ],
   "source": [
    "#loss plot\n",
    "epochs = [i for i in range(1, 31)]\n",
    "plt.plot(epochs, training_history_data['loss'], label='Training Loss', color='red')\n",
    "plt.plot(epochs, training_history_data['val_loss'], label='Validation Loss', color='blue')\n",
    "plt.xlabel('Epochs')\n",
    "plt.ylabel('Loss')\n",
    "plt.title('Loss Visualization')\n",
    "plt.legend()\n",
    "plt.show\n"
   ]
  },
  {
   "cell_type": "code",
   "execution_count": 27,
   "id": "42941307",
   "metadata": {},
   "outputs": [
    {
     "data": {
      "text/plain": [
       "<function matplotlib.pyplot.show(close=None, block=None)>"
      ]
     },
     "execution_count": 27,
     "metadata": {},
     "output_type": "execute_result"
    },
    {
     "data": {
      "image/png": "[encoded data removed]",
      "text/plain": [
       "<Figure size 640x480 with 1 Axes>"
      ]
     },
     "metadata": {},
     "output_type": "display_data"
    }
   ],
   "source": [
    "#Visualizing Accuracy\n",
    "#loss plot\n",
    "epochs = [i for i in range(1, 31)]\n",
    "plt.plot(epochs, training_history_data['accuracy'], label='Training accuracy', color='red')\n",
    "plt.plot(epochs, training_history_data['val_accuracy'], label='Validation accuracy', color='blue')\n",
    "plt.xlabel('Epochs')\n",
    "plt.ylabel('Accuracy')\n",
    "plt.title('Accuracy Results')\n",
    "plt.legend()\n",
    "plt.show\n",
    "\n"
   ]
  },
  {
   "cell_type": "markdown",
   "id": "ea142913",
   "metadata": {},
   "source": [
    "## Precision, Recall, and Confusion Matrix: Further Evaluation\n"
   ]
  },
  {
   "cell_type": "code",
   "execution_count": 30,
   "id": "6dbbe9d4",
   "metadata": {},
   "outputs": [
    {
     "data": {
      "text/plain": [
       "(2995, 256, 256, 1)"
      ]
     },
     "execution_count": 30,
     "metadata": {},
     "output_type": "execute_result"
    }
   ],
   "source": [
    "X_test.shape"
   ]
  },
  {
   "cell_type": "code",
   "execution_count": 31,
   "id": "1c4a5e08",
   "metadata": {},
   "outputs": [
    {
     "name": "stdout",
     "output_type": "stream",
     "text": [
      "94/94 [==============================] - 4s 41ms/step\n"
     ]
    },
    {
     "data": {
      "text/plain": [
       "array([[8.9621777e-03, 1.8131819e-05, 5.9299741e-02, ..., 8.8150656e-01,\n",
       "        1.8851600e-04, 8.2420111e-03],\n",
       "       [8.5992536e-24, 2.0663560e-33, 6.8940340e-30, ..., 5.5638243e-30,\n",
       "        2.4650192e-21, 1.1197894e-14],\n",
       "       [1.5673562e-15, 3.2565107e-15, 6.9021872e-16, ..., 2.8916712e-18,\n",
       "        9.2706954e-18, 1.5288647e-07],\n",
       "       ...,\n",
       "       [9.9875855e-01, 2.6196286e-16, 2.6930779e-06, ..., 5.7047871e-19,\n",
       "        8.4628830e-08, 1.1176208e-03],\n",
       "       [1.4143834e-03, 9.6242857e-01, 2.4560399e-03, ..., 2.2360205e-03,\n",
       "        3.0025323e-03, 1.5945728e-03],\n",
       "       [9.5959329e-10, 1.2656894e-10, 1.5558704e-04, ..., 5.6274599e-05,\n",
       "        6.9757475e-04, 1.7780760e-05]], dtype=float32)"
      ]
     },
     "execution_count": 31,
     "metadata": {},
     "output_type": "execute_result"
    }
   ],
   "source": [
    "y_pred = model.predict(X_test)\n",
    "y_pred\n"
   ]
  },
  {
   "cell_type": "code",
   "execution_count": 32,
   "id": "070ceef6",
   "metadata": {},
   "outputs": [
    {
     "data": {
      "text/plain": [
       "(2995, 10)"
      ]
     },
     "execution_count": 32,
     "metadata": {},
     "output_type": "execute_result"
    }
   ],
   "source": [
    "y_pred.shape"
   ]
  },
  {
   "cell_type": "code",
   "execution_count": 33,
   "id": "34c29648",
   "metadata": {},
   "outputs": [
    {
     "data": {
      "text/plain": [
       "array([7, 6, 6, ..., 0, 1, 4], dtype=int64)"
      ]
     },
     "execution_count": 33,
     "metadata": {},
     "output_type": "execute_result"
    }
   ],
   "source": [
    "predicted_categories = np.argmax(y_pred, axis=1)\n",
    "predicted_categories\n"
   ]
  },
  {
   "cell_type": "code",
   "execution_count": 34,
   "id": "ff209780",
   "metadata": {},
   "outputs": [
    {
     "data": {
      "text/plain": [
       "array([[0., 0., 0., ..., 1., 0., 0.],\n",
       "       [0., 0., 0., ..., 0., 0., 0.],\n",
       "       [0., 0., 0., ..., 0., 0., 0.],\n",
       "       ...,\n",
       "       [1., 0., 0., ..., 0., 0., 0.],\n",
       "       [0., 1., 0., ..., 0., 0., 0.],\n",
       "       [0., 0., 0., ..., 0., 0., 0.]], dtype=float32)"
      ]
     },
     "execution_count": 34,
     "metadata": {},
     "output_type": "execute_result"
    }
   ],
   "source": [
    "Y_test"
   ]
  },
  {
   "cell_type": "code",
   "execution_count": 35,
   "id": "9d0c6d50",
   "metadata": {},
   "outputs": [
    {
     "data": {
      "text/plain": [
       "array([7, 6, 6, ..., 0, 1, 4], dtype=int64)"
      ]
     },
     "execution_count": 35,
     "metadata": {},
     "output_type": "execute_result"
    }
   ],
   "source": [
    "true_categories = np.argmax(Y_test, axis=1)\n",
    "true_categories"
   ]
  },
  {
   "cell_type": "code",
   "execution_count": 36,
   "id": "f1b94b0a",
   "metadata": {},
   "outputs": [],
   "source": [
    "from sklearn.metrics import confusion_matrix, classification_report\n",
    "cm = confusion_matrix(true_categories, predicted_categories)"
   ]
  },
  {
   "cell_type": "markdown",
   "id": "d140af8b",
   "metadata": {},
   "source": [
    "## Confusion Matrix Graph"
   ]
  },
  {
   "cell_type": "code",
   "execution_count": 37,
   "id": "0699f260",
   "metadata": {},
   "outputs": [
    {
     "data": {
      "text/plain": [
       "<function matplotlib.pyplot.show(close=None, block=None)>"
      ]
     },
     "execution_count": 37,
     "metadata": {},
     "output_type": "execute_result"
    },
    {
     "data": {
      "image/png": "[encoded data removed]",
      "text/plain": [
       "<Figure size 1500x1500 with 2 Axes>"
      ]
     },
     "metadata": {},
     "output_type": "display_data"
    }
   ],
   "source": [
    "import seaborn as sns\n",
    "plt.figure(figsize=(15,15))\n",
    "sns.heatmap(cm, annot=True, annot_kws={'size': 10})\n",
    "plt.xlabel('Predicted Class' , fontsize=15)\n",
    "plt.ylabel('True Class' , fontsize=15)\n",
    "plt.title('Confusion Matrix' , fontsize=15)\n",
    "plt.show"
   ]
  }
 ],
 "metadata": {
  "kernelspec": {
   "display_name": "musicgenre",
   "language": "python",
   "name": "python3"
  },
  "language_info": {
   "codemirror_mode": {
    "name": "ipython",
    "version": 3
   },
   "file_extension": ".py",
   "mimetype": "text/x-python",
   "name": "python",
   "nbconvert_exporter": "python",
   "pygments_lexer": "ipython3",
   "version": "3.10.16"
  }
 },
 "nbformat": 4,
 "nbformat_minor": 5
}
