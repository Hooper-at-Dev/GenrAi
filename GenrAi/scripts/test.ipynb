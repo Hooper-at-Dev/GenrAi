{
 "cells": [
  {
   "cell_type": "markdown",
   "metadata": {},
   "source": [
    "## Libraries"
   ]
  },
  {
   "cell_type": "code",
   "execution_count": 1,
   "metadata": {},
   "outputs": [],
   "source": [
    "import os\n",
    "import librosa\n",
    "import numpy as np\n",
    "import tensorflow as tf\n",
    "from tensorflow.image import resize"
   ]
  },
  {
   "cell_type": "code",
   "execution_count": 2,
   "metadata": {},
   "outputs": [],
   "source": [
    "# Loading Model\n",
    "model = tf.keras.models.load_model('./Trained_model.h5')\n",
    "classes = os.listdir('./Data/genres_original/')\n"
   ]
  },
  {
   "cell_type": "code",
   "execution_count": 3,
   "metadata": {},
   "outputs": [],
   "source": [
    "# Preprocessing audio file before testing\n",
    "def  load_and_preprocess_file(file_path, target_shape=(210,210)):\n",
    "    data = []\n",
    "    audio_data, sample_rate = librosa.load(file_path, sr=None)\n",
    "    chunk_duration = 4\n",
    "    overlap_duration = 2\n",
    "    chunk_samples = chunk_duration * sample_rate\n",
    "    overlap_samples = overlap_duration * sample_rate\n",
    "    num_chunks = int(np.ceil((len(audio_data)-chunk_samples)/(chunk_samples - overlap_samples))+1)\n",
    "    for i in range(num_chunks):\n",
    "        start = i * (chunk_samples - overlap_samples)\n",
    "        end = start + chunk_samples\n",
    "        #extract the chunk\n",
    "        chunk = audio_data[start:end]\n",
    "        #Melspectrogram part\n",
    "        mel_spectrogram = librosa.feature.melspectrogram(y=chunk, sr=sample_rate)\n",
    "        #Resizing the Matrix to the target shape\n",
    "        mel_spectrogram = resize(np.expand_dims(mel_spectrogram, axis=-1), target_shape)\n",
    "        #Append data to list\n",
    "        data.append(mel_spectrogram)\n",
    "    return np.array(data)"
   ]
  },
  {
   "cell_type": "code",
   "execution_count": 4,
   "metadata": {},
   "outputs": [],
   "source": [
    "file_path = \"./test_samples/test/08. No Rain - Blind Melon.mp3\"\n",
    "X_test = load_and_preprocess_file(file_path)"
   ]
  },
  {
   "cell_type": "code",
   "execution_count": 5,
   "metadata": {},
   "outputs": [
    {
     "data": {
      "text/plain": [
       "(108, 210, 210, 1)"
      ]
     },
     "execution_count": 5,
     "metadata": {},
     "output_type": "execute_result"
    }
   ],
   "source": [
    "X_test.shape"
   ]
  },
  {
   "cell_type": "markdown",
   "metadata": {},
   "source": [
    "## Model Prediction "
   ]
  },
  {
   "cell_type": "code",
   "execution_count": 6,
   "metadata": {},
   "outputs": [],
   "source": [
    "def model_prediction(X_test):\n",
    "    y_pred = model.predict(X_test)\n",
    "    predicted_categories = np.argmax(y_pred, axis=1)\n",
    "    unique_elements, counts = np.unique(predicted_categories, return_counts=True)\n",
    "    max_count = np.max(counts)\n",
    "    max_element = unique_elements[counts==max_count]\n",
    "    return max_element[0], unique_elements, counts\n"
   ]
  },
  {
   "cell_type": "code",
   "execution_count": 7,
   "metadata": {},
   "outputs": [],
   "source": [
    "# c_index = model_prediction(X_test)"
   ]
  },
  {
   "cell_type": "code",
   "execution_count": 8,
   "metadata": {},
   "outputs": [
    {
     "name": "stdout",
     "output_type": "stream",
     "text": [
      "4/4 [==============================] - 37s 178ms/step\n"
     ]
    }
   ],
   "source": [
    "c_index, u_elements, counts = model_prediction(X_test)"
   ]
  },
  {
   "cell_type": "code",
   "execution_count": 9,
   "metadata": {},
   "outputs": [
    {
     "data": {
      "text/plain": [
       "['blues',\n",
       " 'classical',\n",
       " 'country',\n",
       " 'disco',\n",
       " 'hiphop',\n",
       " 'jazz',\n",
       " 'metal',\n",
       " 'pop',\n",
       " 'reggae',\n",
       " 'rock']"
      ]
     },
     "execution_count": 9,
     "metadata": {},
     "output_type": "execute_result"
    }
   ],
   "source": [
    "classes"
   ]
  },
  {
   "cell_type": "code",
   "execution_count": 10,
   "metadata": {},
   "outputs": [
    {
     "name": "stdout",
     "output_type": "stream",
     "text": [
      "Value: blues, Percentage: 8.33%\n",
      "Value: classical, Percentage: 2.78%\n",
      "Value: country, Percentage: 32.41%\n",
      "Value: classical, Percentage: 2.78%\n",
      "Value: jazz, Percentage: 5.56%\n",
      "Value: reggae, Percentage: 1.85%\n",
      "Value: rock, Percentage: 46.30%\n"
     ]
    }
   ],
   "source": [
    "total = sum(counts)\n",
    "for value in counts:\n",
    "    percentage = (value / total) * 100\n",
    "    index = list(counts).index(value)\n",
    "    print(f\"Value: {[classes[i] for i in u_elements][index]}, Percentage: {percentage:.2f}%\")"
   ]
  },
  {
   "cell_type": "code",
   "execution_count": 11,
   "metadata": {},
   "outputs": [
    {
     "name": "stdout",
     "output_type": "stream",
     "text": [
      "The predicted music genre is: rock\n"
     ]
    }
   ],
   "source": [
    "print(\"The predicted music genre is:\", classes[c_index])"
   ]
  }
 ],
 "metadata": {
  "kernelspec": {
   "display_name": "venv",
   "language": "python",
   "name": "python3"
  },
  "language_info": {
   "codemirror_mode": {
    "name": "ipython",
    "version": 3
   },
   "file_extension": ".py",
   "mimetype": "text/x-python",
   "name": "python",
   "nbconvert_exporter": "python",
   "pygments_lexer": "ipython3",
   "version": "3.10.17"
  }
 },
 "nbformat": 4,
 "nbformat_minor": 2
}
